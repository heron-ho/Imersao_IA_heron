{
  "nbformat": 4,
  "nbformat_minor": 0,
  "metadata": {
    "colab": {
      "provenance": [],
      "authorship_tag": "ABX9TyP9+UxPG+SutFtvcVQMpRmA",
      "include_colab_link": true
    },
    "kernelspec": {
      "name": "python3",
      "display_name": "Python 3"
    },
    "language_info": {
      "name": "python"
    }
  },
  "cells": [
    {
      "cell_type": "markdown",
      "metadata": {
        "id": "view-in-github",
        "colab_type": "text"
      },
      "source": [
        "<a href=\"https://colab.research.google.com/github/heron-ho/Imersao_IA_heron/blob/main/avaliacao_imersao_IA.ipynb\" target=\"_parent\"><img src=\"https://colab.research.google.com/assets/colab-badge.svg\" alt=\"Open In Colab\"/></a>"
      ]
    },
    {
      "cell_type": "markdown",
      "source": [
        "### SDK"
      ],
      "metadata": {
        "id": "jMfJsn1h4xyY"
      }
    },
    {
      "cell_type": "code",
      "source": [
        "!pip install -q -U google-generativeai"
      ],
      "metadata": {
        "id": "JwOnk6Su41Z7"
      },
      "execution_count": 7,
      "outputs": []
    },
    {
      "cell_type": "markdown",
      "source": [
        "### Importações"
      ],
      "metadata": {
        "id": "2qtFeOT_4ucB"
      }
    },
    {
      "cell_type": "code",
      "source": [
        "## importando bibliotecas\n",
        "import google.generativeai as genai\n",
        "import pandas as pd\n",
        "import numpy as np\n",
        "from google.colab import userdata"
      ],
      "metadata": {
        "id": "PW4bfZCY4wGS"
      },
      "execution_count": 8,
      "outputs": []
    },
    {
      "cell_type": "markdown",
      "source": [
        "### Autenticação e configuração da api"
      ],
      "metadata": {
        "id": "fo4ieofW5Doy"
      }
    },
    {
      "cell_type": "code",
      "source": [
        "\n",
        "API_KEY = userdata.get('secret_key')\n",
        "#API_KEY = ... (está no secret key)\n",
        "genai.configure(api_key=API_KEY)\n"
      ],
      "metadata": {
        "id": "Fy8vFqZk4cyM"
      },
      "execution_count": 9,
      "outputs": []
    },
    {
      "cell_type": "markdown",
      "source": [
        "### Configurações do modelo de IA generativa\n",
        "#### Será usado na geração de uma mensagem para o aluno."
      ],
      "metadata": {
        "id": "TLG9Il-L5MEy"
      }
    },
    {
      "cell_type": "code",
      "source": [
        "for m in genai.list_models():\n",
        "  if 'generateContent' in m.supported_generation_methods:\n",
        "    print(m.name)\n",
        "\n",
        "generation_config = {\n",
        "    'candidate_count': 1, # pedidos podem dar mais de uma resposta/alternativa\n",
        "    'temperature':  0.2,\n",
        "}\n",
        "\n",
        "safety_settings = { #precisa de ajustes\n",
        "    'HARASSMENT': 'BLOCK_NONE',\n",
        "    'HATE':'BLOCK_NONE',\n",
        "    'SEXUAL':'BLOCK_NONE',\n",
        "    'DANGEROUS':'BLOCK_NONE'\n",
        "}\n",
        "\n"
      ],
      "metadata": {
        "colab": {
          "base_uri": "https://localhost:8080/",
          "height": 0
        },
        "id": "Il2fiuNI4fYj",
        "outputId": "f1a05335-307d-42f8-cba1-820243cffab9"
      },
      "execution_count": 118,
      "outputs": [
        {
          "output_type": "stream",
          "name": "stdout",
          "text": [
            "models/gemini-1.0-pro\n",
            "models/gemini-1.0-pro-001\n",
            "models/gemini-1.0-pro-latest\n",
            "models/gemini-1.0-pro-vision-latest\n",
            "models/gemini-1.5-pro-latest\n",
            "models/gemini-pro\n",
            "models/gemini-pro-vision\n"
          ]
        }
      ]
    },
    {
      "cell_type": "markdown",
      "source": [
        "###Começo da interação (testes)\n"
      ],
      "metadata": {
        "id": "yaGYQ9nCiP1v"
      }
    },
    {
      "cell_type": "code",
      "source": [
        "# em processo....\n",
        "json = input('forneça os dados sobre os alunos em JSON: ')\n",
        "area = input('forneça as palavras relacionadas à área do conhecimento da qual você quer encontrar um destaque')"
      ],
      "metadata": {
        "colab": {
          "base_uri": "https://localhost:8080/"
        },
        "id": "lWV3nfMWiULV",
        "outputId": "1f495eae-de90-4348-ae2d-2fff5ed27245"
      },
      "execution_count": 117,
      "outputs": [
        {
          "name": "stdout",
          "output_type": "stream",
          "text": [
            "forneça os dados sobre os alunos em JSON: teste\n",
            "forneça as palavras relacionadas à área do conhecimento da qual você quer encontrar um destaqueteste\n"
          ]
        }
      ]
    },
    {
      "cell_type": "markdown",
      "source": [
        "### Gerando variável para modelo generativo de IA"
      ],
      "metadata": {
        "id": "wbJwUG3P569s"
      }
    },
    {
      "cell_type": "code",
      "source": [
        "modelo = genai.GenerativeModel(model_name='gemini-1.0-pro',\n",
        "                              generation_config = generation_config,\n",
        "                              safety_settings = safety_settings)"
      ],
      "metadata": {
        "id": "IYpMZ4RU4pJ_"
      },
      "execution_count": 120,
      "outputs": []
    },
    {
      "cell_type": "markdown",
      "source": [
        "###Recebendo dados em JSON\n",
        "por hora via célula"
      ],
      "metadata": {
        "id": "WB6_kqfK6CYE"
      }
    },
    {
      "cell_type": "code",
      "source": [
        "info_alunos = [\n",
        "  {\n",
        "    \"nome\": \"Ana Silva\",\n",
        "    \"autoavaliacao\": \"No semestre passado, pude observar um crescimento significativo em minhas habilidades de comunicação e trabalho em equipe. Participei ativamente de projetos em grupo, aprimorando minha capacidade de colaborar com colegas e apresentar ideias de forma clara e concisa. Além disso, desenvolvi um maior interesse em áreas como estatística e análise de dados, o que me motivou a buscar cursos extracurriculares para aprofundar meus conhecimentos.\",\n",
        "  },\n",
        "  {\n",
        "    \"nome\": \"Bruno Oliveira\",\n",
        "    \"autoavaliacao\": \"Ao longo do semestre, notei um progresso considerável em minhas habilidades de programação e resolução de problemas. Dediquei-me bastante à prática de codificação, participando de desafios e competindo com colegas. Também me interessei por áreas como machine learning e inteligência artificial, o que me levou a iniciar pesquisas independentes sobre o assunto.\",\n",
        "  },\n",
        "  {\n",
        "    \"nome\": \"Carla Costa\",\n",
        "    \"autoavaliacao\": \"Neste semestre, tive a oportunidade de aprimorar minhas habilidades de escrita e pesquisa. Participei de diversos trabalhos escritos, desde resumos até artigos científicos, o que me permitiu desenvolver uma melhor compreensão da estrutura textual e da organização de ideias. Além disso, me interessei cada vez mais pela área de literatura, o que me motivou a ler obras de autores renomados e participar de grupos de discussão literária.\",\n",
        "  },\n",
        "  {\n",
        "    \"nome\": \"Daniel Santos\",\n",
        "    \"autoavaliacao\": \"Durante o semestre, pude observar um crescimento significativo em minhas habilidades de gestão de tempo e organização. Aprendi a priorizar tarefas, utilizar ferramentas de planejamento e otimizar meu tempo de estudo. Além disso, me interessei por áreas como administração e gestão de projetos, o que me levou a buscar cursos extracurriculares para aprimorar minhas habilidades nesse campo.\",\n",
        "  },\n",
        "  {\n",
        "    \"nome\": \"Erika Pereira\",\n",
        "    \"autoavaliacao\": \"No semestre passado, tive a oportunidade de desenvolver minhas habilidades de liderança e trabalho em equipe. Participei ativamente de projetos em grupo, assumindo responsabilidades e orientando meus colegas. Além disso, me interessei cada vez mais pela área de psicologia, o que me motivou a buscar cursos extracurriculares para aprofundar meus conhecimentos sobre comportamento humano.\",\n",
        "  }\n",
        "]"
      ],
      "metadata": {
        "id": "xyONV8ny6ID6"
      },
      "execution_count": 121,
      "outputs": []
    },
    {
      "cell_type": "markdown",
      "source": [
        "#### Alternativa ao formato JSON (EXCEL)"
      ],
      "metadata": {
        "id": "InUYYEu-7lUB"
      }
    },
    {
      "cell_type": "code",
      "source": [
        "# Cógigos aqui"
      ],
      "metadata": {
        "id": "uRtheMWO7pBr"
      },
      "execution_count": 122,
      "outputs": []
    },
    {
      "cell_type": "markdown",
      "source": [
        "### Montar dataframe"
      ],
      "metadata": {
        "id": "q54nvGWo60kb"
      }
    },
    {
      "cell_type": "code",
      "source": [
        "df = pd.DataFrame(info_alunos)\n",
        "display(df)"
      ],
      "metadata": {
        "colab": {
          "base_uri": "https://localhost:8080/",
          "height": 206
        },
        "id": "eAq1MvwP64Au",
        "outputId": "d5d2ac9d-e1df-472a-aae5-10b19f792eb5"
      },
      "execution_count": 123,
      "outputs": [
        {
          "output_type": "display_data",
          "data": {
            "text/plain": [
              "             nome                                      autoavaliacao\n",
              "0       Ana Silva  No semestre passado, pude observar um crescime...\n",
              "1  Bruno Oliveira  Ao longo do semestre, notei um progresso consi...\n",
              "2     Carla Costa  Neste semestre, tive a oportunidade de aprimor...\n",
              "3   Daniel Santos  Durante o semestre, pude observar um crescimen...\n",
              "4   Erika Pereira  No semestre passado, tive a oportunidade de de..."
            ],
            "text/html": [
              "\n",
              "  <div id=\"df-0834bc9a-5903-4f02-822c-0e15aefbd92f\" class=\"colab-df-container\">\n",
              "    <div>\n",
              "<style scoped>\n",
              "    .dataframe tbody tr th:only-of-type {\n",
              "        vertical-align: middle;\n",
              "    }\n",
              "\n",
              "    .dataframe tbody tr th {\n",
              "        vertical-align: top;\n",
              "    }\n",
              "\n",
              "    .dataframe thead th {\n",
              "        text-align: right;\n",
              "    }\n",
              "</style>\n",
              "<table border=\"1\" class=\"dataframe\">\n",
              "  <thead>\n",
              "    <tr style=\"text-align: right;\">\n",
              "      <th></th>\n",
              "      <th>nome</th>\n",
              "      <th>autoavaliacao</th>\n",
              "    </tr>\n",
              "  </thead>\n",
              "  <tbody>\n",
              "    <tr>\n",
              "      <th>0</th>\n",
              "      <td>Ana Silva</td>\n",
              "      <td>No semestre passado, pude observar um crescime...</td>\n",
              "    </tr>\n",
              "    <tr>\n",
              "      <th>1</th>\n",
              "      <td>Bruno Oliveira</td>\n",
              "      <td>Ao longo do semestre, notei um progresso consi...</td>\n",
              "    </tr>\n",
              "    <tr>\n",
              "      <th>2</th>\n",
              "      <td>Carla Costa</td>\n",
              "      <td>Neste semestre, tive a oportunidade de aprimor...</td>\n",
              "    </tr>\n",
              "    <tr>\n",
              "      <th>3</th>\n",
              "      <td>Daniel Santos</td>\n",
              "      <td>Durante o semestre, pude observar um crescimen...</td>\n",
              "    </tr>\n",
              "    <tr>\n",
              "      <th>4</th>\n",
              "      <td>Erika Pereira</td>\n",
              "      <td>No semestre passado, tive a oportunidade de de...</td>\n",
              "    </tr>\n",
              "  </tbody>\n",
              "</table>\n",
              "</div>\n",
              "    <div class=\"colab-df-buttons\">\n",
              "\n",
              "  <div class=\"colab-df-container\">\n",
              "    <button class=\"colab-df-convert\" onclick=\"convertToInteractive('df-0834bc9a-5903-4f02-822c-0e15aefbd92f')\"\n",
              "            title=\"Convert this dataframe to an interactive table.\"\n",
              "            style=\"display:none;\">\n",
              "\n",
              "  <svg xmlns=\"http://www.w3.org/2000/svg\" height=\"24px\" viewBox=\"0 -960 960 960\">\n",
              "    <path d=\"M120-120v-720h720v720H120Zm60-500h600v-160H180v160Zm220 220h160v-160H400v160Zm0 220h160v-160H400v160ZM180-400h160v-160H180v160Zm440 0h160v-160H620v160ZM180-180h160v-160H180v160Zm440 0h160v-160H620v160Z\"/>\n",
              "  </svg>\n",
              "    </button>\n",
              "\n",
              "  <style>\n",
              "    .colab-df-container {\n",
              "      display:flex;\n",
              "      gap: 12px;\n",
              "    }\n",
              "\n",
              "    .colab-df-convert {\n",
              "      background-color: #E8F0FE;\n",
              "      border: none;\n",
              "      border-radius: 50%;\n",
              "      cursor: pointer;\n",
              "      display: none;\n",
              "      fill: #1967D2;\n",
              "      height: 32px;\n",
              "      padding: 0 0 0 0;\n",
              "      width: 32px;\n",
              "    }\n",
              "\n",
              "    .colab-df-convert:hover {\n",
              "      background-color: #E2EBFA;\n",
              "      box-shadow: 0px 1px 2px rgba(60, 64, 67, 0.3), 0px 1px 3px 1px rgba(60, 64, 67, 0.15);\n",
              "      fill: #174EA6;\n",
              "    }\n",
              "\n",
              "    .colab-df-buttons div {\n",
              "      margin-bottom: 4px;\n",
              "    }\n",
              "\n",
              "    [theme=dark] .colab-df-convert {\n",
              "      background-color: #3B4455;\n",
              "      fill: #D2E3FC;\n",
              "    }\n",
              "\n",
              "    [theme=dark] .colab-df-convert:hover {\n",
              "      background-color: #434B5C;\n",
              "      box-shadow: 0px 1px 3px 1px rgba(0, 0, 0, 0.15);\n",
              "      filter: drop-shadow(0px 1px 2px rgba(0, 0, 0, 0.3));\n",
              "      fill: #FFFFFF;\n",
              "    }\n",
              "  </style>\n",
              "\n",
              "    <script>\n",
              "      const buttonEl =\n",
              "        document.querySelector('#df-0834bc9a-5903-4f02-822c-0e15aefbd92f button.colab-df-convert');\n",
              "      buttonEl.style.display =\n",
              "        google.colab.kernel.accessAllowed ? 'block' : 'none';\n",
              "\n",
              "      async function convertToInteractive(key) {\n",
              "        const element = document.querySelector('#df-0834bc9a-5903-4f02-822c-0e15aefbd92f');\n",
              "        const dataTable =\n",
              "          await google.colab.kernel.invokeFunction('convertToInteractive',\n",
              "                                                    [key], {});\n",
              "        if (!dataTable) return;\n",
              "\n",
              "        const docLinkHtml = 'Like what you see? Visit the ' +\n",
              "          '<a target=\"_blank\" href=https://colab.research.google.com/notebooks/data_table.ipynb>data table notebook</a>'\n",
              "          + ' to learn more about interactive tables.';\n",
              "        element.innerHTML = '';\n",
              "        dataTable['output_type'] = 'display_data';\n",
              "        await google.colab.output.renderOutput(dataTable, element);\n",
              "        const docLink = document.createElement('div');\n",
              "        docLink.innerHTML = docLinkHtml;\n",
              "        element.appendChild(docLink);\n",
              "      }\n",
              "    </script>\n",
              "  </div>\n",
              "\n",
              "\n",
              "<div id=\"df-7b14f163-22b9-4c56-af55-16dd40333fd6\">\n",
              "  <button class=\"colab-df-quickchart\" onclick=\"quickchart('df-7b14f163-22b9-4c56-af55-16dd40333fd6')\"\n",
              "            title=\"Suggest charts\"\n",
              "            style=\"display:none;\">\n",
              "\n",
              "<svg xmlns=\"http://www.w3.org/2000/svg\" height=\"24px\"viewBox=\"0 0 24 24\"\n",
              "     width=\"24px\">\n",
              "    <g>\n",
              "        <path d=\"M19 3H5c-1.1 0-2 .9-2 2v14c0 1.1.9 2 2 2h14c1.1 0 2-.9 2-2V5c0-1.1-.9-2-2-2zM9 17H7v-7h2v7zm4 0h-2V7h2v10zm4 0h-2v-4h2v4z\"/>\n",
              "    </g>\n",
              "</svg>\n",
              "  </button>\n",
              "\n",
              "<style>\n",
              "  .colab-df-quickchart {\n",
              "      --bg-color: #E8F0FE;\n",
              "      --fill-color: #1967D2;\n",
              "      --hover-bg-color: #E2EBFA;\n",
              "      --hover-fill-color: #174EA6;\n",
              "      --disabled-fill-color: #AAA;\n",
              "      --disabled-bg-color: #DDD;\n",
              "  }\n",
              "\n",
              "  [theme=dark] .colab-df-quickchart {\n",
              "      --bg-color: #3B4455;\n",
              "      --fill-color: #D2E3FC;\n",
              "      --hover-bg-color: #434B5C;\n",
              "      --hover-fill-color: #FFFFFF;\n",
              "      --disabled-bg-color: #3B4455;\n",
              "      --disabled-fill-color: #666;\n",
              "  }\n",
              "\n",
              "  .colab-df-quickchart {\n",
              "    background-color: var(--bg-color);\n",
              "    border: none;\n",
              "    border-radius: 50%;\n",
              "    cursor: pointer;\n",
              "    display: none;\n",
              "    fill: var(--fill-color);\n",
              "    height: 32px;\n",
              "    padding: 0;\n",
              "    width: 32px;\n",
              "  }\n",
              "\n",
              "  .colab-df-quickchart:hover {\n",
              "    background-color: var(--hover-bg-color);\n",
              "    box-shadow: 0 1px 2px rgba(60, 64, 67, 0.3), 0 1px 3px 1px rgba(60, 64, 67, 0.15);\n",
              "    fill: var(--button-hover-fill-color);\n",
              "  }\n",
              "\n",
              "  .colab-df-quickchart-complete:disabled,\n",
              "  .colab-df-quickchart-complete:disabled:hover {\n",
              "    background-color: var(--disabled-bg-color);\n",
              "    fill: var(--disabled-fill-color);\n",
              "    box-shadow: none;\n",
              "  }\n",
              "\n",
              "  .colab-df-spinner {\n",
              "    border: 2px solid var(--fill-color);\n",
              "    border-color: transparent;\n",
              "    border-bottom-color: var(--fill-color);\n",
              "    animation:\n",
              "      spin 1s steps(1) infinite;\n",
              "  }\n",
              "\n",
              "  @keyframes spin {\n",
              "    0% {\n",
              "      border-color: transparent;\n",
              "      border-bottom-color: var(--fill-color);\n",
              "      border-left-color: var(--fill-color);\n",
              "    }\n",
              "    20% {\n",
              "      border-color: transparent;\n",
              "      border-left-color: var(--fill-color);\n",
              "      border-top-color: var(--fill-color);\n",
              "    }\n",
              "    30% {\n",
              "      border-color: transparent;\n",
              "      border-left-color: var(--fill-color);\n",
              "      border-top-color: var(--fill-color);\n",
              "      border-right-color: var(--fill-color);\n",
              "    }\n",
              "    40% {\n",
              "      border-color: transparent;\n",
              "      border-right-color: var(--fill-color);\n",
              "      border-top-color: var(--fill-color);\n",
              "    }\n",
              "    60% {\n",
              "      border-color: transparent;\n",
              "      border-right-color: var(--fill-color);\n",
              "    }\n",
              "    80% {\n",
              "      border-color: transparent;\n",
              "      border-right-color: var(--fill-color);\n",
              "      border-bottom-color: var(--fill-color);\n",
              "    }\n",
              "    90% {\n",
              "      border-color: transparent;\n",
              "      border-bottom-color: var(--fill-color);\n",
              "    }\n",
              "  }\n",
              "</style>\n",
              "\n",
              "  <script>\n",
              "    async function quickchart(key) {\n",
              "      const quickchartButtonEl =\n",
              "        document.querySelector('#' + key + ' button');\n",
              "      quickchartButtonEl.disabled = true;  // To prevent multiple clicks.\n",
              "      quickchartButtonEl.classList.add('colab-df-spinner');\n",
              "      try {\n",
              "        const charts = await google.colab.kernel.invokeFunction(\n",
              "            'suggestCharts', [key], {});\n",
              "      } catch (error) {\n",
              "        console.error('Error during call to suggestCharts:', error);\n",
              "      }\n",
              "      quickchartButtonEl.classList.remove('colab-df-spinner');\n",
              "      quickchartButtonEl.classList.add('colab-df-quickchart-complete');\n",
              "    }\n",
              "    (() => {\n",
              "      let quickchartButtonEl =\n",
              "        document.querySelector('#df-7b14f163-22b9-4c56-af55-16dd40333fd6 button');\n",
              "      quickchartButtonEl.style.display =\n",
              "        google.colab.kernel.accessAllowed ? 'block' : 'none';\n",
              "    })();\n",
              "  </script>\n",
              "</div>\n",
              "\n",
              "  <div id=\"id_7bbfe902-1c04-4adc-8b2d-f37a2f81cc54\">\n",
              "    <style>\n",
              "      .colab-df-generate {\n",
              "        background-color: #E8F0FE;\n",
              "        border: none;\n",
              "        border-radius: 50%;\n",
              "        cursor: pointer;\n",
              "        display: none;\n",
              "        fill: #1967D2;\n",
              "        height: 32px;\n",
              "        padding: 0 0 0 0;\n",
              "        width: 32px;\n",
              "      }\n",
              "\n",
              "      .colab-df-generate:hover {\n",
              "        background-color: #E2EBFA;\n",
              "        box-shadow: 0px 1px 2px rgba(60, 64, 67, 0.3), 0px 1px 3px 1px rgba(60, 64, 67, 0.15);\n",
              "        fill: #174EA6;\n",
              "      }\n",
              "\n",
              "      [theme=dark] .colab-df-generate {\n",
              "        background-color: #3B4455;\n",
              "        fill: #D2E3FC;\n",
              "      }\n",
              "\n",
              "      [theme=dark] .colab-df-generate:hover {\n",
              "        background-color: #434B5C;\n",
              "        box-shadow: 0px 1px 3px 1px rgba(0, 0, 0, 0.15);\n",
              "        filter: drop-shadow(0px 1px 2px rgba(0, 0, 0, 0.3));\n",
              "        fill: #FFFFFF;\n",
              "      }\n",
              "    </style>\n",
              "    <button class=\"colab-df-generate\" onclick=\"generateWithVariable('df')\"\n",
              "            title=\"Generate code using this dataframe.\"\n",
              "            style=\"display:none;\">\n",
              "\n",
              "  <svg xmlns=\"http://www.w3.org/2000/svg\" height=\"24px\"viewBox=\"0 0 24 24\"\n",
              "       width=\"24px\">\n",
              "    <path d=\"M7,19H8.4L18.45,9,17,7.55,7,17.6ZM5,21V16.75L18.45,3.32a2,2,0,0,1,2.83,0l1.4,1.43a1.91,1.91,0,0,1,.58,1.4,1.91,1.91,0,0,1-.58,1.4L9.25,21ZM18.45,9,17,7.55Zm-12,3A5.31,5.31,0,0,0,4.9,8.1,5.31,5.31,0,0,0,1,6.5,5.31,5.31,0,0,0,4.9,4.9,5.31,5.31,0,0,0,6.5,1,5.31,5.31,0,0,0,8.1,4.9,5.31,5.31,0,0,0,12,6.5,5.46,5.46,0,0,0,6.5,12Z\"/>\n",
              "  </svg>\n",
              "    </button>\n",
              "    <script>\n",
              "      (() => {\n",
              "      const buttonEl =\n",
              "        document.querySelector('#id_7bbfe902-1c04-4adc-8b2d-f37a2f81cc54 button.colab-df-generate');\n",
              "      buttonEl.style.display =\n",
              "        google.colab.kernel.accessAllowed ? 'block' : 'none';\n",
              "\n",
              "      buttonEl.onclick = () => {\n",
              "        google.colab.notebook.generateWithVariable('df');\n",
              "      }\n",
              "      })();\n",
              "    </script>\n",
              "  </div>\n",
              "\n",
              "    </div>\n",
              "  </div>\n"
            ],
            "application/vnd.google.colaboratory.intrinsic+json": {
              "type": "dataframe",
              "variable_name": "df",
              "summary": "{\n  \"name\": \"df\",\n  \"rows\": 5,\n  \"fields\": [\n    {\n      \"column\": \"nome\",\n      \"properties\": {\n        \"dtype\": \"string\",\n        \"num_unique_values\": 5,\n        \"samples\": [\n          \"Bruno Oliveira\",\n          \"Erika Pereira\",\n          \"Carla Costa\"\n        ],\n        \"semantic_type\": \"\",\n        \"description\": \"\"\n      }\n    },\n    {\n      \"column\": \"autoavaliacao\",\n      \"properties\": {\n        \"dtype\": \"string\",\n        \"num_unique_values\": 5,\n        \"samples\": [\n          \"Ao longo do semestre, notei um progresso consider\\u00e1vel em minhas habilidades de programa\\u00e7\\u00e3o e resolu\\u00e7\\u00e3o de problemas. Dediquei-me bastante \\u00e0 pr\\u00e1tica de codifica\\u00e7\\u00e3o, participando de desafios e competindo com colegas. Tamb\\u00e9m me interessei por \\u00e1reas como machine learning e intelig\\u00eancia artificial, o que me levou a iniciar pesquisas independentes sobre o assunto.\",\n          \"No semestre passado, tive a oportunidade de desenvolver minhas habilidades de lideran\\u00e7a e trabalho em equipe. Participei ativamente de projetos em grupo, assumindo responsabilidades e orientando meus colegas. Al\\u00e9m disso, me interessei cada vez mais pela \\u00e1rea de psicologia, o que me motivou a buscar cursos extracurriculares para aprofundar meus conhecimentos sobre comportamento humano.\",\n          \"Neste semestre, tive a oportunidade de aprimorar minhas habilidades de escrita e pesquisa. Participei de diversos trabalhos escritos, desde resumos at\\u00e9 artigos cient\\u00edficos, o que me permitiu desenvolver uma melhor compreens\\u00e3o da estrutura textual e da organiza\\u00e7\\u00e3o de ideias. Al\\u00e9m disso, me interessei cada vez mais pela \\u00e1rea de literatura, o que me motivou a ler obras de autores renomados e participar de grupos de discuss\\u00e3o liter\\u00e1ria.\"\n        ],\n        \"semantic_type\": \"\",\n        \"description\": \"\"\n      }\n    }\n  ]\n}"
            }
          },
          "metadata": {}
        }
      ]
    },
    {
      "cell_type": "code",
      "source": [],
      "metadata": {
        "id": "1ApEjimQLeQI"
      },
      "execution_count": 123,
      "outputs": []
    },
    {
      "cell_type": "markdown",
      "source": [
        "### definindo modelo de embedding na variável 'model'"
      ],
      "metadata": {
        "id": "4yTjjSvZ75df"
      }
    },
    {
      "cell_type": "code",
      "source": [
        "# lista de modelos de embedding:\n",
        "\n",
        "for m in genai.list_models():\n",
        "  if 'embedContent' in m.supported_generation_methods:\n",
        "    print(m.name)\n",
        "\n",
        "model = 'models/embedding-001'"
      ],
      "metadata": {
        "colab": {
          "base_uri": "https://localhost:8080/",
          "height": 52
        },
        "id": "8tpEDGvO8crf",
        "outputId": "01be9a8e-fa2d-4677-c6d4-cbf300b6c528"
      },
      "execution_count": 124,
      "outputs": [
        {
          "output_type": "stream",
          "name": "stdout",
          "text": [
            "models/embedding-001\n",
            "models/text-embedding-004\n"
          ]
        }
      ]
    },
    {
      "cell_type": "code",
      "source": [
        "# variável para embedding por CLUSTEIZAÇÃO - para gerar segmentar alunos por perfil vocacional\n",
        "\n",
        "embedding_clustering = genai.embed_content(\n",
        "    model = model,\n",
        "    content = df['autoavaliacao'],\n",
        "    task_type = 'CLUSTERING',\n",
        ")\n",
        "\n",
        "# variável para embedding por SIMILARIDADE - para: hierarquizar competências\n",
        "\n",
        "embedding_similaridade = genai.embed_content(\n",
        "    model = model,\n",
        "    content = df['autoavaliacao'],\n",
        "    task_type = 'SEMANTIC_SIMILARITY',\n",
        ")"
      ],
      "metadata": {
        "id": "I4YjYuHu-yx_"
      },
      "execution_count": 130,
      "outputs": []
    },
    {
      "cell_type": "markdown",
      "source": [
        "### funções embeddings"
      ],
      "metadata": {
        "id": "8yzWRwxwKrGg"
      }
    },
    {
      "cell_type": "code",
      "source": [
        "def fn_embedding_semantic_similarity(text):\n",
        "  return genai.embed_content(model=model,\n",
        "                             content=text,\n",
        "                             task_type='retrieval_query')['embedding']\n",
        ""
      ],
      "metadata": {
        "id": "EQ6qw0nmKsF8"
      },
      "execution_count": 131,
      "outputs": []
    },
    {
      "cell_type": "code",
      "source": [
        "df['Embeddings'] = df.apply(lambda row: fn_embedding_semantic_similarity(row['autoavaliacao']), axis=1)"
      ],
      "metadata": {
        "id": "4xrBc0nDNi4_"
      },
      "execution_count": 132,
      "outputs": []
    },
    {
      "cell_type": "code",
      "source": [
        "df"
      ],
      "metadata": {
        "colab": {
          "base_uri": "https://localhost:8080/",
          "height": 206
        },
        "id": "FBhCudxlOu1Y",
        "outputId": "436bb6c7-f028-4101-9d28-851b14e65624"
      },
      "execution_count": 133,
      "outputs": [
        {
          "output_type": "execute_result",
          "data": {
            "text/plain": [
              "             nome                                      autoavaliacao  \\\n",
              "0       Ana Silva  No semestre passado, pude observar um crescime...   \n",
              "1  Bruno Oliveira  Ao longo do semestre, notei um progresso consi...   \n",
              "2     Carla Costa  Neste semestre, tive a oportunidade de aprimor...   \n",
              "3   Daniel Santos  Durante o semestre, pude observar um crescimen...   \n",
              "4   Erika Pereira  No semestre passado, tive a oportunidade de de...   \n",
              "\n",
              "                                          Embeddings  \n",
              "0  [0.028692823, -0.032471396, -0.0139682945, 0.0...  \n",
              "1  [-0.008241747, -0.03234989, -0.0201636, 0.0336...  \n",
              "2  [0.013034234, -0.044011697, -0.0040123854, 0.0...  \n",
              "3  [0.02348041, -0.02630075, -0.0015877283, 0.056...  \n",
              "4  [0.011845743, -0.023316598, -0.019337894, 0.01...  "
            ],
            "text/html": [
              "\n",
              "  <div id=\"df-c9ec667c-9d8d-452f-8442-b6182bed09af\" class=\"colab-df-container\">\n",
              "    <div>\n",
              "<style scoped>\n",
              "    .dataframe tbody tr th:only-of-type {\n",
              "        vertical-align: middle;\n",
              "    }\n",
              "\n",
              "    .dataframe tbody tr th {\n",
              "        vertical-align: top;\n",
              "    }\n",
              "\n",
              "    .dataframe thead th {\n",
              "        text-align: right;\n",
              "    }\n",
              "</style>\n",
              "<table border=\"1\" class=\"dataframe\">\n",
              "  <thead>\n",
              "    <tr style=\"text-align: right;\">\n",
              "      <th></th>\n",
              "      <th>nome</th>\n",
              "      <th>autoavaliacao</th>\n",
              "      <th>Embeddings</th>\n",
              "    </tr>\n",
              "  </thead>\n",
              "  <tbody>\n",
              "    <tr>\n",
              "      <th>0</th>\n",
              "      <td>Ana Silva</td>\n",
              "      <td>No semestre passado, pude observar um crescime...</td>\n",
              "      <td>[0.028692823, -0.032471396, -0.0139682945, 0.0...</td>\n",
              "    </tr>\n",
              "    <tr>\n",
              "      <th>1</th>\n",
              "      <td>Bruno Oliveira</td>\n",
              "      <td>Ao longo do semestre, notei um progresso consi...</td>\n",
              "      <td>[-0.008241747, -0.03234989, -0.0201636, 0.0336...</td>\n",
              "    </tr>\n",
              "    <tr>\n",
              "      <th>2</th>\n",
              "      <td>Carla Costa</td>\n",
              "      <td>Neste semestre, tive a oportunidade de aprimor...</td>\n",
              "      <td>[0.013034234, -0.044011697, -0.0040123854, 0.0...</td>\n",
              "    </tr>\n",
              "    <tr>\n",
              "      <th>3</th>\n",
              "      <td>Daniel Santos</td>\n",
              "      <td>Durante o semestre, pude observar um crescimen...</td>\n",
              "      <td>[0.02348041, -0.02630075, -0.0015877283, 0.056...</td>\n",
              "    </tr>\n",
              "    <tr>\n",
              "      <th>4</th>\n",
              "      <td>Erika Pereira</td>\n",
              "      <td>No semestre passado, tive a oportunidade de de...</td>\n",
              "      <td>[0.011845743, -0.023316598, -0.019337894, 0.01...</td>\n",
              "    </tr>\n",
              "  </tbody>\n",
              "</table>\n",
              "</div>\n",
              "    <div class=\"colab-df-buttons\">\n",
              "\n",
              "  <div class=\"colab-df-container\">\n",
              "    <button class=\"colab-df-convert\" onclick=\"convertToInteractive('df-c9ec667c-9d8d-452f-8442-b6182bed09af')\"\n",
              "            title=\"Convert this dataframe to an interactive table.\"\n",
              "            style=\"display:none;\">\n",
              "\n",
              "  <svg xmlns=\"http://www.w3.org/2000/svg\" height=\"24px\" viewBox=\"0 -960 960 960\">\n",
              "    <path d=\"M120-120v-720h720v720H120Zm60-500h600v-160H180v160Zm220 220h160v-160H400v160Zm0 220h160v-160H400v160ZM180-400h160v-160H180v160Zm440 0h160v-160H620v160ZM180-180h160v-160H180v160Zm440 0h160v-160H620v160Z\"/>\n",
              "  </svg>\n",
              "    </button>\n",
              "\n",
              "  <style>\n",
              "    .colab-df-container {\n",
              "      display:flex;\n",
              "      gap: 12px;\n",
              "    }\n",
              "\n",
              "    .colab-df-convert {\n",
              "      background-color: #E8F0FE;\n",
              "      border: none;\n",
              "      border-radius: 50%;\n",
              "      cursor: pointer;\n",
              "      display: none;\n",
              "      fill: #1967D2;\n",
              "      height: 32px;\n",
              "      padding: 0 0 0 0;\n",
              "      width: 32px;\n",
              "    }\n",
              "\n",
              "    .colab-df-convert:hover {\n",
              "      background-color: #E2EBFA;\n",
              "      box-shadow: 0px 1px 2px rgba(60, 64, 67, 0.3), 0px 1px 3px 1px rgba(60, 64, 67, 0.15);\n",
              "      fill: #174EA6;\n",
              "    }\n",
              "\n",
              "    .colab-df-buttons div {\n",
              "      margin-bottom: 4px;\n",
              "    }\n",
              "\n",
              "    [theme=dark] .colab-df-convert {\n",
              "      background-color: #3B4455;\n",
              "      fill: #D2E3FC;\n",
              "    }\n",
              "\n",
              "    [theme=dark] .colab-df-convert:hover {\n",
              "      background-color: #434B5C;\n",
              "      box-shadow: 0px 1px 3px 1px rgba(0, 0, 0, 0.15);\n",
              "      filter: drop-shadow(0px 1px 2px rgba(0, 0, 0, 0.3));\n",
              "      fill: #FFFFFF;\n",
              "    }\n",
              "  </style>\n",
              "\n",
              "    <script>\n",
              "      const buttonEl =\n",
              "        document.querySelector('#df-c9ec667c-9d8d-452f-8442-b6182bed09af button.colab-df-convert');\n",
              "      buttonEl.style.display =\n",
              "        google.colab.kernel.accessAllowed ? 'block' : 'none';\n",
              "\n",
              "      async function convertToInteractive(key) {\n",
              "        const element = document.querySelector('#df-c9ec667c-9d8d-452f-8442-b6182bed09af');\n",
              "        const dataTable =\n",
              "          await google.colab.kernel.invokeFunction('convertToInteractive',\n",
              "                                                    [key], {});\n",
              "        if (!dataTable) return;\n",
              "\n",
              "        const docLinkHtml = 'Like what you see? Visit the ' +\n",
              "          '<a target=\"_blank\" href=https://colab.research.google.com/notebooks/data_table.ipynb>data table notebook</a>'\n",
              "          + ' to learn more about interactive tables.';\n",
              "        element.innerHTML = '';\n",
              "        dataTable['output_type'] = 'display_data';\n",
              "        await google.colab.output.renderOutput(dataTable, element);\n",
              "        const docLink = document.createElement('div');\n",
              "        docLink.innerHTML = docLinkHtml;\n",
              "        element.appendChild(docLink);\n",
              "      }\n",
              "    </script>\n",
              "  </div>\n",
              "\n",
              "\n",
              "<div id=\"df-eca31b2a-f3d0-44a8-b0a2-f4f2207f2200\">\n",
              "  <button class=\"colab-df-quickchart\" onclick=\"quickchart('df-eca31b2a-f3d0-44a8-b0a2-f4f2207f2200')\"\n",
              "            title=\"Suggest charts\"\n",
              "            style=\"display:none;\">\n",
              "\n",
              "<svg xmlns=\"http://www.w3.org/2000/svg\" height=\"24px\"viewBox=\"0 0 24 24\"\n",
              "     width=\"24px\">\n",
              "    <g>\n",
              "        <path d=\"M19 3H5c-1.1 0-2 .9-2 2v14c0 1.1.9 2 2 2h14c1.1 0 2-.9 2-2V5c0-1.1-.9-2-2-2zM9 17H7v-7h2v7zm4 0h-2V7h2v10zm4 0h-2v-4h2v4z\"/>\n",
              "    </g>\n",
              "</svg>\n",
              "  </button>\n",
              "\n",
              "<style>\n",
              "  .colab-df-quickchart {\n",
              "      --bg-color: #E8F0FE;\n",
              "      --fill-color: #1967D2;\n",
              "      --hover-bg-color: #E2EBFA;\n",
              "      --hover-fill-color: #174EA6;\n",
              "      --disabled-fill-color: #AAA;\n",
              "      --disabled-bg-color: #DDD;\n",
              "  }\n",
              "\n",
              "  [theme=dark] .colab-df-quickchart {\n",
              "      --bg-color: #3B4455;\n",
              "      --fill-color: #D2E3FC;\n",
              "      --hover-bg-color: #434B5C;\n",
              "      --hover-fill-color: #FFFFFF;\n",
              "      --disabled-bg-color: #3B4455;\n",
              "      --disabled-fill-color: #666;\n",
              "  }\n",
              "\n",
              "  .colab-df-quickchart {\n",
              "    background-color: var(--bg-color);\n",
              "    border: none;\n",
              "    border-radius: 50%;\n",
              "    cursor: pointer;\n",
              "    display: none;\n",
              "    fill: var(--fill-color);\n",
              "    height: 32px;\n",
              "    padding: 0;\n",
              "    width: 32px;\n",
              "  }\n",
              "\n",
              "  .colab-df-quickchart:hover {\n",
              "    background-color: var(--hover-bg-color);\n",
              "    box-shadow: 0 1px 2px rgba(60, 64, 67, 0.3), 0 1px 3px 1px rgba(60, 64, 67, 0.15);\n",
              "    fill: var(--button-hover-fill-color);\n",
              "  }\n",
              "\n",
              "  .colab-df-quickchart-complete:disabled,\n",
              "  .colab-df-quickchart-complete:disabled:hover {\n",
              "    background-color: var(--disabled-bg-color);\n",
              "    fill: var(--disabled-fill-color);\n",
              "    box-shadow: none;\n",
              "  }\n",
              "\n",
              "  .colab-df-spinner {\n",
              "    border: 2px solid var(--fill-color);\n",
              "    border-color: transparent;\n",
              "    border-bottom-color: var(--fill-color);\n",
              "    animation:\n",
              "      spin 1s steps(1) infinite;\n",
              "  }\n",
              "\n",
              "  @keyframes spin {\n",
              "    0% {\n",
              "      border-color: transparent;\n",
              "      border-bottom-color: var(--fill-color);\n",
              "      border-left-color: var(--fill-color);\n",
              "    }\n",
              "    20% {\n",
              "      border-color: transparent;\n",
              "      border-left-color: var(--fill-color);\n",
              "      border-top-color: var(--fill-color);\n",
              "    }\n",
              "    30% {\n",
              "      border-color: transparent;\n",
              "      border-left-color: var(--fill-color);\n",
              "      border-top-color: var(--fill-color);\n",
              "      border-right-color: var(--fill-color);\n",
              "    }\n",
              "    40% {\n",
              "      border-color: transparent;\n",
              "      border-right-color: var(--fill-color);\n",
              "      border-top-color: var(--fill-color);\n",
              "    }\n",
              "    60% {\n",
              "      border-color: transparent;\n",
              "      border-right-color: var(--fill-color);\n",
              "    }\n",
              "    80% {\n",
              "      border-color: transparent;\n",
              "      border-right-color: var(--fill-color);\n",
              "      border-bottom-color: var(--fill-color);\n",
              "    }\n",
              "    90% {\n",
              "      border-color: transparent;\n",
              "      border-bottom-color: var(--fill-color);\n",
              "    }\n",
              "  }\n",
              "</style>\n",
              "\n",
              "  <script>\n",
              "    async function quickchart(key) {\n",
              "      const quickchartButtonEl =\n",
              "        document.querySelector('#' + key + ' button');\n",
              "      quickchartButtonEl.disabled = true;  // To prevent multiple clicks.\n",
              "      quickchartButtonEl.classList.add('colab-df-spinner');\n",
              "      try {\n",
              "        const charts = await google.colab.kernel.invokeFunction(\n",
              "            'suggestCharts', [key], {});\n",
              "      } catch (error) {\n",
              "        console.error('Error during call to suggestCharts:', error);\n",
              "      }\n",
              "      quickchartButtonEl.classList.remove('colab-df-spinner');\n",
              "      quickchartButtonEl.classList.add('colab-df-quickchart-complete');\n",
              "    }\n",
              "    (() => {\n",
              "      let quickchartButtonEl =\n",
              "        document.querySelector('#df-eca31b2a-f3d0-44a8-b0a2-f4f2207f2200 button');\n",
              "      quickchartButtonEl.style.display =\n",
              "        google.colab.kernel.accessAllowed ? 'block' : 'none';\n",
              "    })();\n",
              "  </script>\n",
              "</div>\n",
              "\n",
              "  <div id=\"id_82e91599-c30f-4d1e-bdf1-13f280367dbc\">\n",
              "    <style>\n",
              "      .colab-df-generate {\n",
              "        background-color: #E8F0FE;\n",
              "        border: none;\n",
              "        border-radius: 50%;\n",
              "        cursor: pointer;\n",
              "        display: none;\n",
              "        fill: #1967D2;\n",
              "        height: 32px;\n",
              "        padding: 0 0 0 0;\n",
              "        width: 32px;\n",
              "      }\n",
              "\n",
              "      .colab-df-generate:hover {\n",
              "        background-color: #E2EBFA;\n",
              "        box-shadow: 0px 1px 2px rgba(60, 64, 67, 0.3), 0px 1px 3px 1px rgba(60, 64, 67, 0.15);\n",
              "        fill: #174EA6;\n",
              "      }\n",
              "\n",
              "      [theme=dark] .colab-df-generate {\n",
              "        background-color: #3B4455;\n",
              "        fill: #D2E3FC;\n",
              "      }\n",
              "\n",
              "      [theme=dark] .colab-df-generate:hover {\n",
              "        background-color: #434B5C;\n",
              "        box-shadow: 0px 1px 3px 1px rgba(0, 0, 0, 0.15);\n",
              "        filter: drop-shadow(0px 1px 2px rgba(0, 0, 0, 0.3));\n",
              "        fill: #FFFFFF;\n",
              "      }\n",
              "    </style>\n",
              "    <button class=\"colab-df-generate\" onclick=\"generateWithVariable('df')\"\n",
              "            title=\"Generate code using this dataframe.\"\n",
              "            style=\"display:none;\">\n",
              "\n",
              "  <svg xmlns=\"http://www.w3.org/2000/svg\" height=\"24px\"viewBox=\"0 0 24 24\"\n",
              "       width=\"24px\">\n",
              "    <path d=\"M7,19H8.4L18.45,9,17,7.55,7,17.6ZM5,21V16.75L18.45,3.32a2,2,0,0,1,2.83,0l1.4,1.43a1.91,1.91,0,0,1,.58,1.4,1.91,1.91,0,0,1-.58,1.4L9.25,21ZM18.45,9,17,7.55Zm-12,3A5.31,5.31,0,0,0,4.9,8.1,5.31,5.31,0,0,0,1,6.5,5.31,5.31,0,0,0,4.9,4.9,5.31,5.31,0,0,0,6.5,1,5.31,5.31,0,0,0,8.1,4.9,5.31,5.31,0,0,0,12,6.5,5.46,5.46,0,0,0,6.5,12Z\"/>\n",
              "  </svg>\n",
              "    </button>\n",
              "    <script>\n",
              "      (() => {\n",
              "      const buttonEl =\n",
              "        document.querySelector('#id_82e91599-c30f-4d1e-bdf1-13f280367dbc button.colab-df-generate');\n",
              "      buttonEl.style.display =\n",
              "        google.colab.kernel.accessAllowed ? 'block' : 'none';\n",
              "\n",
              "      buttonEl.onclick = () => {\n",
              "        google.colab.notebook.generateWithVariable('df');\n",
              "      }\n",
              "      })();\n",
              "    </script>\n",
              "  </div>\n",
              "\n",
              "    </div>\n",
              "  </div>\n"
            ],
            "application/vnd.google.colaboratory.intrinsic+json": {
              "type": "dataframe",
              "variable_name": "df",
              "summary": "{\n  \"name\": \"df\",\n  \"rows\": 5,\n  \"fields\": [\n    {\n      \"column\": \"nome\",\n      \"properties\": {\n        \"dtype\": \"string\",\n        \"num_unique_values\": 5,\n        \"samples\": [\n          \"Bruno Oliveira\",\n          \"Erika Pereira\",\n          \"Carla Costa\"\n        ],\n        \"semantic_type\": \"\",\n        \"description\": \"\"\n      }\n    },\n    {\n      \"column\": \"autoavaliacao\",\n      \"properties\": {\n        \"dtype\": \"string\",\n        \"num_unique_values\": 5,\n        \"samples\": [\n          \"Ao longo do semestre, notei um progresso consider\\u00e1vel em minhas habilidades de programa\\u00e7\\u00e3o e resolu\\u00e7\\u00e3o de problemas. Dediquei-me bastante \\u00e0 pr\\u00e1tica de codifica\\u00e7\\u00e3o, participando de desafios e competindo com colegas. Tamb\\u00e9m me interessei por \\u00e1reas como machine learning e intelig\\u00eancia artificial, o que me levou a iniciar pesquisas independentes sobre o assunto.\",\n          \"No semestre passado, tive a oportunidade de desenvolver minhas habilidades de lideran\\u00e7a e trabalho em equipe. Participei ativamente de projetos em grupo, assumindo responsabilidades e orientando meus colegas. Al\\u00e9m disso, me interessei cada vez mais pela \\u00e1rea de psicologia, o que me motivou a buscar cursos extracurriculares para aprofundar meus conhecimentos sobre comportamento humano.\",\n          \"Neste semestre, tive a oportunidade de aprimorar minhas habilidades de escrita e pesquisa. Participei de diversos trabalhos escritos, desde resumos at\\u00e9 artigos cient\\u00edficos, o que me permitiu desenvolver uma melhor compreens\\u00e3o da estrutura textual e da organiza\\u00e7\\u00e3o de ideias. Al\\u00e9m disso, me interessei cada vez mais pela \\u00e1rea de literatura, o que me motivou a ler obras de autores renomados e participar de grupos de discuss\\u00e3o liter\\u00e1ria.\"\n        ],\n        \"semantic_type\": \"\",\n        \"description\": \"\"\n      }\n    },\n    {\n      \"column\": \"Embeddings\",\n      \"properties\": {\n        \"dtype\": \"object\",\n        \"semantic_type\": \"\",\n        \"description\": \"\"\n      }\n    }\n  ]\n}"
            }
          },
          "metadata": {},
          "execution_count": 133
        }
      ]
    },
    {
      "cell_type": "code",
      "source": [
        "def consulta_similaridade_competencias(consulta, base, model):\n",
        "  embedding_consulta_similaridade = genai.embed_content(model=model,\n",
        "                                                        content=consulta,\n",
        "                                                        task_type='SEMANTIC_SIMILARITY')\n",
        "\n",
        "  produtos_escalares = np.dot(np.stack(df['Embeddings']), embedding_consulta_similaridade['embedding'])\n",
        "  indice = np.argmax(produtos_escalares)\n",
        "  return df.iloc[indice]['nome']\n",
        "\n",
        ""
      ],
      "metadata": {
        "id": "dFq3I16OPRCj"
      },
      "execution_count": 134,
      "outputs": []
    },
    {
      "cell_type": "markdown",
      "source": [
        "### Definir variáveis com as áreas do Conhecimento"
      ],
      "metadata": {
        "id": "MMjGvz4MmMcu"
      }
    },
    {
      "cell_type": "code",
      "source": [
        "# Linguagens e suas Tecnologias\n",
        "linguas_tecnologias =  'livros, leitura, compreenção, linguagens, idiomas, culturas, comunicação, expressão, escrita, oralidade, gramática, vocabulário, tradução, interpretação, literatura, poesia, prosa, teatro, cinema, música, artes visuais, mídias digitais, internet, redes sociais, tecnologia da informação, informática, ferramentas digitais, aplicativos, plataformas online, globalização, multiculturalismo, interculturalidade, diversidade linguística, inclusão digital'\n",
        "\n",
        "# Matemática e suas Tecnologias\n",
        "matematica_tecnologias = 'números, operações matemáticas, cálculos, geometria, álgebra, trigonometria, estatística, probabilidade, lógica, raciocínio lógico, resolução de problemas, modelagem matemática, matemática financeira, matemática aplicada, física matemática, química matemática, biomatemática, economia matemática, ciência da computação, algoritmos, programação, software, hardware, internet, tecnologia da informação, informática, ferramentas digitais, aplicativos, plataformas online'\n",
        "\n",
        "# Ciências Humanas e Sociais\n",
        "humanas_sociais ='história, geografia, sociologia, filosofia, política, psicologia, antropologia, economia, direito, ética, cidadania, democracia, direitos humanos, justiça social, desigualdade social, movimentos sociais, globalização, multiculturalismo, interculturalidade, diversidade cultural, estudos de gênero, estudos étnico-raciais, estudos ambientais, sustentabilidade, desenvolvimento social, políticas públicas, relações internacionais'\n",
        "\n",
        "# Ciências da Natureza e suas Tecnologias\n",
        "naturais_tecnologias = 'física, química, biologia, geologia, astronomia, meio ambiente, ecologia, biodiversidade, sustentabilidade, desenvolvimento sustentável, recursos naturais, energia, água, ar, solo, clima, mudanças climáticas, poluição, saúde ambiental, educação ambiental, tecnologia ambiental, biotecnologia, nanotecnologia, robótica, inteligência artificial, internet das coisas, tecnologia da informação, informática, ferramentas digitais, aplicativos, plataformas online'\n",
        "\n",
        "# Educação Física\n",
        "educacao_fisica = 'jogos, atividades físicas, saúde física, saúde mental, bem-estar, qualidade de vida, movimento corporal, motricidade, desenvolvimento motor, coordenação motora, agilidade, força, resistência, flexibilidade, equilíbrio, postura, educação postural, ginástica, natação, atletismo, futebol, basquetebol, voleibol, handebol, tênis, judô, karatê, capoeira, dança, yoga, pilates, musculação, condicionamento físico, treinamento funcional, esportes radicais, lazer, recreação, tempo livre, cultura corporal, educação para o movimento, educação para a saúde, inclusão social, acessibilidade, diversidade corporal'\n",
        "\n",
        "areas_conhecimento = [linguas_tecnologias, matematica_tecnologias, humanas_sociais, naturais_tecnologias, educacao_fisica]\n",
        "#areas_conhecimento"
      ],
      "metadata": {
        "id": "HKuXdU6blmT9"
      },
      "execution_count": 142,
      "outputs": []
    },
    {
      "cell_type": "markdown",
      "source": [
        "## Realizar consulta de qual aluno foi destaque em cada área do conhecimento"
      ],
      "metadata": {
        "id": "_l4mOji2m19A"
      }
    },
    {
      "cell_type": "code",
      "source": [
        "consulta = 'livros, leitura, compreenção, linguagens, idiomas, culturas, comunicação, expressão, escrita, oralidade, gramática, vocabulário, tradução, interpretação, literatura, poesia, prosa, teatro, cinema, música, artes visuais, mídias digitais, internet, redes sociais, tecnologia da informação, informática, ferramentas digitais, aplicativos, plataformas online, globalização, multiculturalismo, interculturalidade, diversidade linguística, inclusão digital.'\n",
        "resposta_final = consulta_similaridade_competencias(consulta, df, model)\n",
        "print(resposta_final)"
      ],
      "metadata": {
        "colab": {
          "base_uri": "https://localhost:8080/",
          "height": 34
        },
        "id": "-6XrncIxT0sZ",
        "outputId": "ff90f5ee-7b2e-4ac0-9dfe-9fceea4c2c6a"
      },
      "execution_count": 140,
      "outputs": [
        {
          "output_type": "stream",
          "name": "stdout",
          "text": [
            "Carla Costa\n"
          ]
        }
      ]
    },
    {
      "cell_type": "markdown",
      "source": [
        "### Definir quais alunos foram destaque em cada área do conhecimento:"
      ],
      "metadata": {
        "id": "zkARYSL6fVnb"
      }
    },
    {
      "cell_type": "code",
      "source": [
        "for area in areas_conhecimento:\n",
        "  consulta = area\n",
        "  resposta_final = consulta_similaridade_competencias(consulta, df, model)\n",
        "  print(f'Os alunos destaque foram: {resposta_final}') # Falta associar os nomes das áreas"
      ],
      "metadata": {
        "colab": {
          "base_uri": "https://localhost:8080/",
          "height": 104
        },
        "id": "oPulEnIkfxpb",
        "outputId": "15a66ed7-044c-4e7c-80f3-d797fcad4989"
      },
      "execution_count": 153,
      "outputs": [
        {
          "output_type": "stream",
          "name": "stdout",
          "text": [
            "Os alunos destaque foram: Carla Costa\n",
            "Os alunos destaque foram: Ana Silva\n",
            "Os alunos destaque foram: Erika Pereira\n",
            "Os alunos destaque foram: Carla Costa\n",
            "Os alunos destaque foram: Ana Silva\n"
          ]
        }
      ]
    },
    {
      "cell_type": "code",
      "source": [],
      "metadata": {
        "id": "iPGt98isfacU"
      },
      "execution_count": null,
      "outputs": []
    }
  ]
}